{
 "cells": [
  {
   "cell_type": "code",
   "execution_count": 14,
   "metadata": {},
   "outputs": [],
   "source": [
    "import gymnasium as gym\n",
    "import gym_anytrading\n",
    "\n",
    "from stable_baselines3.common.vec_env import DummyVecEnv\n",
    "from stable_baselines3 import A2C\n",
    "\n",
    "#Quant Finance\n",
    "from finta import TA\n",
    "import quantstats as qs\n",
    "\n",
    "import numpy as np\n",
    "import pandas as pd\n",
    "from matplotlib import pyplot as plt"
   ]
  },
  {
   "cell_type": "code",
   "execution_count": 15,
   "metadata": {},
   "outputs": [],
   "source": [
    "from pandas_datareader import data as pdr\n",
    "from pandas_datareader._utils import RemoteDataError\n",
    "import yfinance as yfin\n",
    "import matplotlib.pyplot as plt\n",
    "from datetime import datetime, timedelta\n",
    "import pickle\n",
    "\n",
    "yfin.pdr_override()"
   ]
  },
  {
   "cell_type": "code",
   "execution_count": 16,
   "metadata": {},
   "outputs": [
    {
     "name": "stderr",
     "output_type": "stream",
     "text": [
      "[*********************100%%**********************]  1 of 1 completed"
     ]
    },
    {
     "name": "stderr",
     "output_type": "stream",
     "text": [
      "\n"
     ]
    }
   ],
   "source": [
    "end_date =  datetime.now().date() - timedelta(days=30)\n",
    "start_date = end_date - timedelta(days=395)\n",
    "\n",
    "prices = pdr.get_data_yahoo('BAJAJ-AUTO.NS', start=start_date, end=end_date)"
   ]
  },
  {
   "cell_type": "code",
   "execution_count": 17,
   "metadata": {},
   "outputs": [
    {
     "data": {
      "text/html": [
       "<div>\n",
       "<style scoped>\n",
       "    .dataframe tbody tr th:only-of-type {\n",
       "        vertical-align: middle;\n",
       "    }\n",
       "\n",
       "    .dataframe tbody tr th {\n",
       "        vertical-align: top;\n",
       "    }\n",
       "\n",
       "    .dataframe thead th {\n",
       "        text-align: right;\n",
       "    }\n",
       "</style>\n",
       "<table border=\"1\" class=\"dataframe\">\n",
       "  <thead>\n",
       "    <tr style=\"text-align: right;\">\n",
       "      <th></th>\n",
       "      <th>Open</th>\n",
       "      <th>High</th>\n",
       "      <th>Low</th>\n",
       "      <th>Close</th>\n",
       "      <th>Adj Close</th>\n",
       "      <th>Volume</th>\n",
       "    </tr>\n",
       "    <tr>\n",
       "      <th>Date</th>\n",
       "      <th></th>\n",
       "      <th></th>\n",
       "      <th></th>\n",
       "      <th></th>\n",
       "      <th></th>\n",
       "      <th></th>\n",
       "    </tr>\n",
       "  </thead>\n",
       "  <tbody>\n",
       "    <tr>\n",
       "      <th>2023-03-17</th>\n",
       "      <td>3817.800049</td>\n",
       "      <td>3827.949951</td>\n",
       "      <td>3792.050049</td>\n",
       "      <td>3814.399902</td>\n",
       "      <td>3701.172119</td>\n",
       "      <td>396793</td>\n",
       "    </tr>\n",
       "    <tr>\n",
       "      <th>2023-03-20</th>\n",
       "      <td>3790.000000</td>\n",
       "      <td>3834.949951</td>\n",
       "      <td>3785.100098</td>\n",
       "      <td>3805.000000</td>\n",
       "      <td>3692.051270</td>\n",
       "      <td>331370</td>\n",
       "    </tr>\n",
       "    <tr>\n",
       "      <th>2023-03-21</th>\n",
       "      <td>3806.500000</td>\n",
       "      <td>3922.000000</td>\n",
       "      <td>3796.750000</td>\n",
       "      <td>3905.699951</td>\n",
       "      <td>3789.761963</td>\n",
       "      <td>803886</td>\n",
       "    </tr>\n",
       "    <tr>\n",
       "      <th>2023-03-22</th>\n",
       "      <td>3921.750000</td>\n",
       "      <td>3945.500000</td>\n",
       "      <td>3888.600098</td>\n",
       "      <td>3923.949951</td>\n",
       "      <td>3807.470215</td>\n",
       "      <td>311063</td>\n",
       "    </tr>\n",
       "    <tr>\n",
       "      <th>2023-03-23</th>\n",
       "      <td>3902.500000</td>\n",
       "      <td>3912.399902</td>\n",
       "      <td>3853.050049</td>\n",
       "      <td>3862.949951</td>\n",
       "      <td>3748.281006</td>\n",
       "      <td>256313</td>\n",
       "    </tr>\n",
       "  </tbody>\n",
       "</table>\n",
       "</div>"
      ],
      "text/plain": [
       "                   Open         High          Low        Close    Adj Close  \\\n",
       "Date                                                                          \n",
       "2023-03-17  3817.800049  3827.949951  3792.050049  3814.399902  3701.172119   \n",
       "2023-03-20  3790.000000  3834.949951  3785.100098  3805.000000  3692.051270   \n",
       "2023-03-21  3806.500000  3922.000000  3796.750000  3905.699951  3789.761963   \n",
       "2023-03-22  3921.750000  3945.500000  3888.600098  3923.949951  3807.470215   \n",
       "2023-03-23  3902.500000  3912.399902  3853.050049  3862.949951  3748.281006   \n",
       "\n",
       "            Volume  \n",
       "Date                \n",
       "2023-03-17  396793  \n",
       "2023-03-20  331370  \n",
       "2023-03-21  803886  \n",
       "2023-03-22  311063  \n",
       "2023-03-23  256313  "
      ]
     },
     "execution_count": 17,
     "metadata": {},
     "output_type": "execute_result"
    }
   ],
   "source": [
    "data = prices\n",
    "data.head()"
   ]
  },
  {
   "cell_type": "code",
   "execution_count": 19,
   "metadata": {},
   "outputs": [
    {
     "data": {
      "text/html": [
       "<div>\n",
       "<style scoped>\n",
       "    .dataframe tbody tr th:only-of-type {\n",
       "        vertical-align: middle;\n",
       "    }\n",
       "\n",
       "    .dataframe tbody tr th {\n",
       "        vertical-align: top;\n",
       "    }\n",
       "\n",
       "    .dataframe thead th {\n",
       "        text-align: right;\n",
       "    }\n",
       "</style>\n",
       "<table border=\"1\" class=\"dataframe\">\n",
       "  <thead>\n",
       "    <tr style=\"text-align: right;\">\n",
       "      <th></th>\n",
       "      <th>Open</th>\n",
       "      <th>High</th>\n",
       "      <th>Low</th>\n",
       "      <th>Close</th>\n",
       "      <th>Adj Close</th>\n",
       "      <th>Volume</th>\n",
       "      <th>return</th>\n",
       "    </tr>\n",
       "    <tr>\n",
       "      <th>Date</th>\n",
       "      <th></th>\n",
       "      <th></th>\n",
       "      <th></th>\n",
       "      <th></th>\n",
       "      <th></th>\n",
       "      <th></th>\n",
       "      <th></th>\n",
       "    </tr>\n",
       "  </thead>\n",
       "  <tbody>\n",
       "    <tr>\n",
       "      <th>2024-04-05</th>\n",
       "      <td>9130.000000</td>\n",
       "      <td>9130.000000</td>\n",
       "      <td>9000.500000</td>\n",
       "      <td>9009.500000</td>\n",
       "      <td>9009.500000</td>\n",
       "      <td>356305</td>\n",
       "      <td>-0.015053</td>\n",
       "    </tr>\n",
       "    <tr>\n",
       "      <th>2024-04-08</th>\n",
       "      <td>9049.000000</td>\n",
       "      <td>9090.000000</td>\n",
       "      <td>8951.299805</td>\n",
       "      <td>9030.500000</td>\n",
       "      <td>9030.500000</td>\n",
       "      <td>376197</td>\n",
       "      <td>0.002328</td>\n",
       "    </tr>\n",
       "    <tr>\n",
       "      <th>2024-04-09</th>\n",
       "      <td>9090.000000</td>\n",
       "      <td>9132.700195</td>\n",
       "      <td>8936.400391</td>\n",
       "      <td>8978.900391</td>\n",
       "      <td>8978.900391</td>\n",
       "      <td>237944</td>\n",
       "      <td>-0.005730</td>\n",
       "    </tr>\n",
       "    <tr>\n",
       "      <th>2024-04-10</th>\n",
       "      <td>9034.799805</td>\n",
       "      <td>9049.799805</td>\n",
       "      <td>8901.349609</td>\n",
       "      <td>9005.549805</td>\n",
       "      <td>9005.549805</td>\n",
       "      <td>319824</td>\n",
       "      <td>0.002964</td>\n",
       "    </tr>\n",
       "    <tr>\n",
       "      <th>2024-04-12</th>\n",
       "      <td>8949.049805</td>\n",
       "      <td>9119.000000</td>\n",
       "      <td>8930.000000</td>\n",
       "      <td>9064.849609</td>\n",
       "      <td>9064.849609</td>\n",
       "      <td>480474</td>\n",
       "      <td>0.006563</td>\n",
       "    </tr>\n",
       "  </tbody>\n",
       "</table>\n",
       "</div>"
      ],
      "text/plain": [
       "                   Open         High          Low        Close    Adj Close  \\\n",
       "Date                                                                          \n",
       "2024-04-05  9130.000000  9130.000000  9000.500000  9009.500000  9009.500000   \n",
       "2024-04-08  9049.000000  9090.000000  8951.299805  9030.500000  9030.500000   \n",
       "2024-04-09  9090.000000  9132.700195  8936.400391  8978.900391  8978.900391   \n",
       "2024-04-10  9034.799805  9049.799805  8901.349609  9005.549805  9005.549805   \n",
       "2024-04-12  8949.049805  9119.000000  8930.000000  9064.849609  9064.849609   \n",
       "\n",
       "            Volume    return  \n",
       "Date                          \n",
       "2024-04-05  356305 -0.015053  \n",
       "2024-04-08  376197  0.002328  \n",
       "2024-04-09  237944 -0.005730  \n",
       "2024-04-10  319824  0.002964  \n",
       "2024-04-12  480474  0.006563  "
      ]
     },
     "execution_count": 19,
     "metadata": {},
     "output_type": "execute_result"
    }
   ],
   "source": [
    "data['return'] = np.log(data['Close'] / data['Close'].shift(1))\n",
    "data.tail()"
   ]
  },
  {
   "cell_type": "code",
   "execution_count": 20,
   "metadata": {},
   "outputs": [
    {
     "name": "stdout",
     "output_type": "stream",
     "text": [
      "Using cpu device\n"
     ]
    },
    {
     "data": {
      "text/plain": [
       "<stable_baselines3.a2c.a2c.A2C at 0x24662dd52a0>"
      ]
     },
     "execution_count": 20,
     "metadata": {},
     "output_type": "execute_result"
    }
   ],
   "source": [
    "env_maker = lambda: gym.make('stocks-v0', df=data, frame_bound = (5,100), window_size=2)\n",
    "env = DummyVecEnv([env_maker])\n",
    "\n",
    "model = A2C('MlpPolicy', env, verbose=1)\n",
    "model.learn(total_timesteps=100000)\n"
   ]
  },
  {
   "cell_type": "code",
   "execution_count": null,
   "metadata": {},
   "outputs": [],
   "source": [
    "model.save('trained_model')\n",
    "model.load('trained_model')"
   ]
  },
  {
   "cell_type": "code",
   "execution_count": 21,
   "metadata": {},
   "outputs": [],
   "source": [
    "env = gym.make('stocks-v0', df=data, frame_bound = (5,100), window_size=2)\n",
    "obs, info = env.reset()"
   ]
  },
  {
   "cell_type": "code",
   "execution_count": 22,
   "metadata": {},
   "outputs": [
    {
     "name": "stdout",
     "output_type": "stream",
     "text": [
      "info {'total_reward': 811.5498046875, 'total_profit': 0.9216591996042526, 'position': <Positions.Short: 0>}\n"
     ]
    }
   ],
   "source": [
    "while True:\n",
    "    action, _states = model.predict(obs)\n",
    "    obs, rewards, truncate, done, info = env.step(action)\n",
    "    if done:\n",
    "        print(\"info\", info)\n",
    "        break"
   ]
  },
  {
   "cell_type": "code",
   "execution_count": 23,
   "metadata": {},
   "outputs": [
    {
     "data": {
      "image/png": "[encoded data removed]",
      "text/plain": [
       "<Figure size 1500x600 with 1 Axes>"
      ]
     },
     "metadata": {},
     "output_type": "display_data"
    }
   ],
   "source": [
    "plt.figure(figsize = (15,6), facecolor='w')\n",
    "plt.cla()\n",
    "env.unwrapped.render_all()\n",
    "plt.show()"
   ]
  },
  {
   "cell_type": "code",
   "execution_count": null,
   "metadata": {},
   "outputs": [],
   "source": []
  }
 ],
 "metadata": {
  "kernelspec": {
   "display_name": "spp_venv",
   "language": "python",
   "name": "python3"
  },
  "language_info": {
   "codemirror_mode": {
    "name": "ipython",
    "version": 3
   },
   "file_extension": ".py",
   "mimetype": "text/x-python",
   "name": "python",
   "nbconvert_exporter": "python",
   "pygments_lexer": "ipython3",
   "version": "3.10.7"
  }
 },
 "nbformat": 4,
 "nbformat_minor": 2
}
